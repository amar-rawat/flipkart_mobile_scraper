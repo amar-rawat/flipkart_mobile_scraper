{
 "cells": [
  {
   "cell_type": "markdown",
   "id": "3bade61f",
   "metadata": {},
   "source": [
    "### Importing important modules"
   ]
  },
  {
   "cell_type": "code",
   "execution_count": 498,
   "id": "62f5793f",
   "metadata": {},
   "outputs": [],
   "source": [
    "import pandas as pd\n",
    "import requests\n",
    "from bs4 import BeautifulSoup\n",
    "import numpy as np"
   ]
  },
  {
   "cell_type": "code",
   "execution_count": 519,
   "id": "2cc96635-bf9f-4e6d-9894-0520eec82d04",
   "metadata": {},
   "outputs": [],
   "source": [
    "descr = []\n",
    "mob_pr = []\n",
    "\n",
    "for i in range(1,42):\n",
    "    #after 41 pages flipkart does not have data on pages\n",
    "    url = f'https://www.flipkart.com/search?q=mobile&otracker=search&otracker1=search&marketplace=FLIPKART&as-show=on&as=off&page={i}'\n",
    "    r = requests.get(url)\n",
    "    htmlcontent = r.text\n",
    "    soup = BeautifulSoup(htmlcontent, 'html.parser')\n",
    "    box = soup.find_all('div',  class_ = '_13oc-S')\n",
    "    for c in box:\n",
    "        #name\n",
    "        n = c.find('div' , class_ = '_4rR01T')\n",
    "        name = n.text\n",
    "        #price\n",
    "        p = c.find('div', class_= '_30jeq3 _1_WHN1')\n",
    "        if p == None:\n",
    "            price = 0\n",
    "        else:\n",
    "            price = p.text\n",
    "        #ratings\n",
    "        r = c.find('div', class_= '_3LWZlK')\n",
    "        if r == None:\n",
    "            rating = 0\n",
    "        else:\n",
    "            rating = r.text\n",
    "\n",
    "\n",
    "\n",
    "        mob_pr.append([name, price, rating])\n",
    "\n",
    "        \n",
    "        #desc\n",
    "        des = []\n",
    "        for i in c.find_all('li', 'rgWa7D'):\n",
    "            des.append(i.text)\n",
    "        descr.append(des)"
   ]
  },
  {
   "cell_type": "code",
   "execution_count": 1092,
   "id": "da8c16ef-2148-484b-91bf-f6eaad8706b4",
   "metadata": {},
   "outputs": [],
   "source": [
    "data = []\n",
    "for i in range(0,len(mob_pr)):\n",
    "    list = mob_pr[i] + descr[i]\n",
    "    data.append(list)"
   ]
  },
  {
   "cell_type": "code",
   "execution_count": 1093,
   "id": "15407b32-e66c-4f39-ad0f-236bbf69d017",
   "metadata": {},
   "outputs": [],
   "source": [
    "df = pd.DataFrame(data)"
   ]
  },
  {
   "cell_type": "code",
   "execution_count": 1094,
   "id": "546fc315-b35b-4ff1-a808-646c3694b0f2",
   "metadata": {},
   "outputs": [],
   "source": [
    "df.rename(columns = {0:'Name', 1:'Price', 2:'Ratings', 3:'Storage',4:'ScreenSize (in CM)', 5:'Camera (in MP)', 6:'Battery'}, inplace = True)"
   ]
  },
  {
   "cell_type": "code",
   "execution_count": 1095,
   "id": "69a3c05a-5b31-4a28-ad00-1c4e6ce3d3d8",
   "metadata": {},
   "outputs": [],
   "source": [
    "df.reset_index(drop = True, inplace = True)"
   ]
  },
  {
   "cell_type": "code",
   "execution_count": 1096,
   "id": "8681b34c-7587-430c-afbc-13a69cb90bff",
   "metadata": {},
   "outputs": [],
   "source": [
    "df = df[df['Price'] !=0]"
   ]
  },
  {
   "cell_type": "code",
   "execution_count": 1097,
   "id": "c5a8ae37-185f-42ee-8bb1-f0fd0be5d382",
   "metadata": {},
   "outputs": [],
   "source": [
    "df['Price'] = df['Price'].str.replace('₹','')\n",
    "df['Price'] = df['Price'].str.replace(',','')\n",
    "df['Ratings'] = df['Ratings'].astype('float')\n",
    "df['Price'] = df['Price'].astype('int')"
   ]
  },
  {
   "cell_type": "code",
   "execution_count": 1099,
   "id": "3329871a-7798-4ce9-9587-2a5023f0a8b5",
   "metadata": {},
   "outputs": [],
   "source": [
    "df = df[['Name','Price','Ratings','Storage','ScreenSize (in CM)','Camera (in MP)']]"
   ]
  },
  {
   "cell_type": "code",
   "execution_count": 1100,
   "id": "0c6f06fa-c86a-4ed9-8111-2ea19d40a1ef",
   "metadata": {},
   "outputs": [],
   "source": [
    "df = df[df['Storage'].str.find('ROM') != -1]"
   ]
  },
  {
   "cell_type": "code",
   "execution_count": 1101,
   "id": "9c0345d9-2541-4669-986c-e33f134dbb6f",
   "metadata": {},
   "outputs": [],
   "source": [
    "df['ScreenSize (in CM)'] = df['ScreenSize (in CM)'].str.split(' cm', n=1 , expand =True)[0]\n",
    "df['ScreenSize (in CM)'] = df['ScreenSize (in CM)'].astype('float')"
   ]
  },
  {
   "cell_type": "code",
   "execution_count": 1102,
   "id": "16b2d86a-5b1d-49b3-9acc-653ff521ec98",
   "metadata": {},
   "outputs": [],
   "source": [
    "df = df[df['ScreenSize (in CM)']!=449.58]"
   ]
  },
  {
   "cell_type": "code",
   "execution_count": 1103,
   "id": "ff0f9ff6-3a9d-4c39-8ffd-76722227d89a",
   "metadata": {},
   "outputs": [
    {
     "data": {
      "text/html": [
       "<div>\n",
       "<style scoped>\n",
       "    .dataframe tbody tr th:only-of-type {\n",
       "        vertical-align: middle;\n",
       "    }\n",
       "\n",
       "    .dataframe tbody tr th {\n",
       "        vertical-align: top;\n",
       "    }\n",
       "\n",
       "    .dataframe thead th {\n",
       "        text-align: right;\n",
       "    }\n",
       "</style>\n",
       "<table border=\"1\" class=\"dataframe\">\n",
       "  <thead>\n",
       "    <tr style=\"text-align: right;\">\n",
       "      <th></th>\n",
       "      <th>Name</th>\n",
       "      <th>Price</th>\n",
       "      <th>Ratings</th>\n",
       "      <th>Storage</th>\n",
       "      <th>ScreenSize (in CM)</th>\n",
       "      <th>Camera (in MP)</th>\n",
       "    </tr>\n",
       "  </thead>\n",
       "  <tbody>\n",
       "    <tr>\n",
       "      <th>0</th>\n",
       "      <td>POCO C51 (Royal Blue, 64 GB)</td>\n",
       "      <td>6499</td>\n",
       "      <td>4.1</td>\n",
       "      <td>4 GB RAM | 64 GB ROM | Expandable Upto 1 TB</td>\n",
       "      <td>16.56</td>\n",
       "      <td>8MP Dual Rear Camera | 5MP Front Camera</td>\n",
       "    </tr>\n",
       "    <tr>\n",
       "      <th>1</th>\n",
       "      <td>POCO C51 (Power Black, 64 GB)</td>\n",
       "      <td>6499</td>\n",
       "      <td>4.1</td>\n",
       "      <td>4 GB RAM | 64 GB ROM | Expandable Upto 1 TB</td>\n",
       "      <td>16.56</td>\n",
       "      <td>8MP Dual Rear Camera | 5MP Front Camera</td>\n",
       "    </tr>\n",
       "    <tr>\n",
       "      <th>2</th>\n",
       "      <td>Infinix SMART 7 (Azure Blue, 64 GB)</td>\n",
       "      <td>6999</td>\n",
       "      <td>4.3</td>\n",
       "      <td>4 GB RAM | 64 GB ROM | Expandable Upto 2 TB</td>\n",
       "      <td>16.76</td>\n",
       "      <td>13MP + AI Lens | 5MP Front Camera</td>\n",
       "    </tr>\n",
       "    <tr>\n",
       "      <th>3</th>\n",
       "      <td>POCO C50 (Royal Blue, 32 GB)</td>\n",
       "      <td>5499</td>\n",
       "      <td>4.2</td>\n",
       "      <td>2 GB RAM | 32 GB ROM | Expandable Upto 512 GB</td>\n",
       "      <td>16.56</td>\n",
       "      <td>8MP Dual Camera | 5MP Front Camera</td>\n",
       "    </tr>\n",
       "    <tr>\n",
       "      <th>4</th>\n",
       "      <td>Infinix SMART 7 (Emerald Green, 64 GB)</td>\n",
       "      <td>6999</td>\n",
       "      <td>4.3</td>\n",
       "      <td>4 GB RAM | 64 GB ROM | Expandable Upto 2 TB</td>\n",
       "      <td>16.76</td>\n",
       "      <td>13MP + AI Lens | 5MP Front Camera</td>\n",
       "    </tr>\n",
       "    <tr>\n",
       "      <th>...</th>\n",
       "      <td>...</td>\n",
       "      <td>...</td>\n",
       "      <td>...</td>\n",
       "      <td>...</td>\n",
       "      <td>...</td>\n",
       "      <td>...</td>\n",
       "    </tr>\n",
       "    <tr>\n",
       "      <th>979</th>\n",
       "      <td>LAVA Flip</td>\n",
       "      <td>2059</td>\n",
       "      <td>4.1</td>\n",
       "      <td>32 MB RAM | 32 MB ROM | Expandable Upto 32 GB</td>\n",
       "      <td>6.10</td>\n",
       "      <td>0.08MP Rear Camera</td>\n",
       "    </tr>\n",
       "    <tr>\n",
       "      <th>980</th>\n",
       "      <td>vivo T1 Pro 5G (Turbo Black, 128 GB)</td>\n",
       "      <td>24999</td>\n",
       "      <td>4.4</td>\n",
       "      <td>8 GB RAM | 128 GB ROM</td>\n",
       "      <td>16.36</td>\n",
       "      <td>64MP + 8MP + 2MP | 16MP Front Camera</td>\n",
       "    </tr>\n",
       "    <tr>\n",
       "      <th>981</th>\n",
       "      <td>vivo T1 Pro 5G (Turbo Cyan, 128 GB)</td>\n",
       "      <td>24999</td>\n",
       "      <td>4.4</td>\n",
       "      <td>8 GB RAM | 128 GB ROM</td>\n",
       "      <td>16.36</td>\n",
       "      <td>64MP + 8MP + 2MP | 16MP Front Camera</td>\n",
       "    </tr>\n",
       "    <tr>\n",
       "      <th>982</th>\n",
       "      <td>POCO C31 (Royal Blue, 64 GB)</td>\n",
       "      <td>9499</td>\n",
       "      <td>4.3</td>\n",
       "      <td>4 GB RAM | 64 GB ROM | Expandable Upto 512 GB</td>\n",
       "      <td>16.59</td>\n",
       "      <td>13MP + 2MP + 2MP | 5MP Front Camera</td>\n",
       "    </tr>\n",
       "    <tr>\n",
       "      <th>983</th>\n",
       "      <td>REDMI NOTE 10 LITE (Champagne Gold, 128 GB)</td>\n",
       "      <td>13888</td>\n",
       "      <td>4.3</td>\n",
       "      <td>6 GB RAM | 128 GB ROM</td>\n",
       "      <td>16.94</td>\n",
       "      <td>48MP Rear Camera</td>\n",
       "    </tr>\n",
       "  </tbody>\n",
       "</table>\n",
       "<p>979 rows × 6 columns</p>\n",
       "</div>"
      ],
      "text/plain": [
       "                                            Name  Price  Ratings  \\\n",
       "0                   POCO C51 (Royal Blue, 64 GB)   6499      4.1   \n",
       "1                  POCO C51 (Power Black, 64 GB)   6499      4.1   \n",
       "2            Infinix SMART 7 (Azure Blue, 64 GB)   6999      4.3   \n",
       "3                   POCO C50 (Royal Blue, 32 GB)   5499      4.2   \n",
       "4         Infinix SMART 7 (Emerald Green, 64 GB)   6999      4.3   \n",
       "..                                           ...    ...      ...   \n",
       "979                                    LAVA Flip   2059      4.1   \n",
       "980         vivo T1 Pro 5G (Turbo Black, 128 GB)  24999      4.4   \n",
       "981          vivo T1 Pro 5G (Turbo Cyan, 128 GB)  24999      4.4   \n",
       "982                 POCO C31 (Royal Blue, 64 GB)   9499      4.3   \n",
       "983  REDMI NOTE 10 LITE (Champagne Gold, 128 GB)  13888      4.3   \n",
       "\n",
       "                                           Storage  ScreenSize (in CM)  \\\n",
       "0      4 GB RAM | 64 GB ROM | Expandable Upto 1 TB               16.56   \n",
       "1      4 GB RAM | 64 GB ROM | Expandable Upto 1 TB               16.56   \n",
       "2      4 GB RAM | 64 GB ROM | Expandable Upto 2 TB               16.76   \n",
       "3    2 GB RAM | 32 GB ROM | Expandable Upto 512 GB               16.56   \n",
       "4      4 GB RAM | 64 GB ROM | Expandable Upto 2 TB               16.76   \n",
       "..                                             ...                 ...   \n",
       "979  32 MB RAM | 32 MB ROM | Expandable Upto 32 GB                6.10   \n",
       "980                          8 GB RAM | 128 GB ROM               16.36   \n",
       "981                          8 GB RAM | 128 GB ROM               16.36   \n",
       "982  4 GB RAM | 64 GB ROM | Expandable Upto 512 GB               16.59   \n",
       "983                          6 GB RAM | 128 GB ROM               16.94   \n",
       "\n",
       "                              Camera (in MP)  \n",
       "0    8MP Dual Rear Camera | 5MP Front Camera  \n",
       "1    8MP Dual Rear Camera | 5MP Front Camera  \n",
       "2          13MP + AI Lens | 5MP Front Camera  \n",
       "3         8MP Dual Camera | 5MP Front Camera  \n",
       "4          13MP + AI Lens | 5MP Front Camera  \n",
       "..                                       ...  \n",
       "979                       0.08MP Rear Camera  \n",
       "980     64MP + 8MP + 2MP | 16MP Front Camera  \n",
       "981     64MP + 8MP + 2MP | 16MP Front Camera  \n",
       "982      13MP + 2MP + 2MP | 5MP Front Camera  \n",
       "983                         48MP Rear Camera  \n",
       "\n",
       "[979 rows x 6 columns]"
      ]
     },
     "execution_count": 1103,
     "metadata": {},
     "output_type": "execute_result"
    }
   ],
   "source": [
    "df"
   ]
  },
  {
   "cell_type": "code",
   "execution_count": 1105,
   "id": "c9f2e20f-1286-4873-9a37-fb95f3b2e013",
   "metadata": {},
   "outputs": [],
   "source": [
    "df.to_csv(r'C:\\Users\\Amar\\Desktop\\flipkart_mobile_scraper\\flipkart_mobile_data.csv')"
   ]
  },
  {
   "cell_type": "code",
   "execution_count": null,
   "id": "de0ad773-266b-4b15-8306-d88ff56c09c4",
   "metadata": {},
   "outputs": [],
   "source": []
  }
 ],
 "metadata": {
  "kernelspec": {
   "display_name": "Python 3 (ipykernel)",
   "language": "python",
   "name": "python3"
  },
  "language_info": {
   "codemirror_mode": {
    "name": "ipython",
    "version": 3
   },
   "file_extension": ".py",
   "mimetype": "text/x-python",
   "name": "python",
   "nbconvert_exporter": "python",
   "pygments_lexer": "ipython3",
   "version": "3.11.4"
  }
 },
 "nbformat": 4,
 "nbformat_minor": 5
}
